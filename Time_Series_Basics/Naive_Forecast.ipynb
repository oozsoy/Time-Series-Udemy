{
 "cells": [
  {
   "cell_type": "code",
   "execution_count": 4,
   "metadata": {},
   "outputs": [],
   "source": [
    "import numpy as np\n",
    "import matplotlib.pyplot as plt\n",
    "import pandas as pd\n",
    "from sklearn.metrics import mean_absolute_error, mean_absolute_percentage_error, r2_score, mean_squared_error\n",
    "\n",
    "#For inline plotting \n",
    "%matplotlib inline                 \n",
    "%config InlineBackend.figure_format = 'svg'\n",
    "\n",
    "plt.style.use(\"seaborn-v0_8-dark\")     "
   ]
  },
  {
   "cell_type": "code",
   "execution_count": 3,
   "metadata": {},
   "outputs": [
    {
     "name": "stdout",
     "output_type": "stream",
     "text": [
      "--2024-04-03 17:51:10--  https://lazyprogrammer.me/course_files/SPY.csv\n",
      "Resolving lazyprogrammer.me (lazyprogrammer.me)... 104.21.23.210, 172.67.213.166\n",
      "Connecting to lazyprogrammer.me (lazyprogrammer.me)|104.21.23.210|:443... connected.\n",
      "HTTP request sent, awaiting response... 200 OK\n",
      "Length: 251935 (246K) [text/csv]\n",
      "Saving to: 'SPY.csv'\n",
      "\n",
      "SPY.csv             100%[===================>] 246.03K  --.-KB/s    in 0.08s   \n",
      "\n",
      "2024-04-03 17:51:12 (2.93 MB/s) - 'SPY.csv' saved [251935/251935]\n",
      "\n"
     ]
    }
   ],
   "source": [
    "# Download the data for the stock prices \n",
    "\n",
    "!wget -nc https://lazyprogrammer.me/course_files/SPY.csv"
   ]
  },
  {
   "cell_type": "code",
   "execution_count": 5,
   "metadata": {},
   "outputs": [],
   "source": [
    "df = pd.read_csv('SPY.csv', index_col=0, parse_dates=True)"
   ]
  },
  {
   "cell_type": "code",
   "execution_count": 6,
   "metadata": {},
   "outputs": [
    {
     "data": {
      "text/html": [
       "<div>\n",
       "<style scoped>\n",
       "    .dataframe tbody tr th:only-of-type {\n",
       "        vertical-align: middle;\n",
       "    }\n",
       "\n",
       "    .dataframe tbody tr th {\n",
       "        vertical-align: top;\n",
       "    }\n",
       "\n",
       "    .dataframe thead th {\n",
       "        text-align: right;\n",
       "    }\n",
       "</style>\n",
       "<table border=\"1\" class=\"dataframe\">\n",
       "  <thead>\n",
       "    <tr style=\"text-align: right;\">\n",
       "      <th></th>\n",
       "      <th>Open</th>\n",
       "      <th>High</th>\n",
       "      <th>Low</th>\n",
       "      <th>Close</th>\n",
       "      <th>Adj Close</th>\n",
       "      <th>Volume</th>\n",
       "    </tr>\n",
       "    <tr>\n",
       "      <th>Date</th>\n",
       "      <th></th>\n",
       "      <th></th>\n",
       "      <th></th>\n",
       "      <th></th>\n",
       "      <th></th>\n",
       "      <th></th>\n",
       "    </tr>\n",
       "  </thead>\n",
       "  <tbody>\n",
       "    <tr>\n",
       "      <th>2010-01-04</th>\n",
       "      <td>112.370003</td>\n",
       "      <td>113.389999</td>\n",
       "      <td>111.510002</td>\n",
       "      <td>113.330002</td>\n",
       "      <td>92.246048</td>\n",
       "      <td>118944600</td>\n",
       "    </tr>\n",
       "    <tr>\n",
       "      <th>2010-01-05</th>\n",
       "      <td>113.260002</td>\n",
       "      <td>113.680000</td>\n",
       "      <td>112.849998</td>\n",
       "      <td>113.629997</td>\n",
       "      <td>92.490204</td>\n",
       "      <td>111579900</td>\n",
       "    </tr>\n",
       "    <tr>\n",
       "      <th>2010-01-06</th>\n",
       "      <td>113.519997</td>\n",
       "      <td>113.989998</td>\n",
       "      <td>113.430000</td>\n",
       "      <td>113.709999</td>\n",
       "      <td>92.555328</td>\n",
       "      <td>116074400</td>\n",
       "    </tr>\n",
       "    <tr>\n",
       "      <th>2010-01-07</th>\n",
       "      <td>113.500000</td>\n",
       "      <td>114.330002</td>\n",
       "      <td>113.180000</td>\n",
       "      <td>114.190002</td>\n",
       "      <td>92.946060</td>\n",
       "      <td>131091100</td>\n",
       "    </tr>\n",
       "    <tr>\n",
       "      <th>2010-01-08</th>\n",
       "      <td>113.889999</td>\n",
       "      <td>114.620003</td>\n",
       "      <td>113.660004</td>\n",
       "      <td>114.570000</td>\n",
       "      <td>93.255348</td>\n",
       "      <td>126402800</td>\n",
       "    </tr>\n",
       "  </tbody>\n",
       "</table>\n",
       "</div>"
      ],
      "text/plain": [
       "                  Open        High         Low       Close  Adj Close  \\\n",
       "Date                                                                    \n",
       "2010-01-04  112.370003  113.389999  111.510002  113.330002  92.246048   \n",
       "2010-01-05  113.260002  113.680000  112.849998  113.629997  92.490204   \n",
       "2010-01-06  113.519997  113.989998  113.430000  113.709999  92.555328   \n",
       "2010-01-07  113.500000  114.330002  113.180000  114.190002  92.946060   \n",
       "2010-01-08  113.889999  114.620003  113.660004  114.570000  93.255348   \n",
       "\n",
       "               Volume  \n",
       "Date                   \n",
       "2010-01-04  118944600  \n",
       "2010-01-05  111579900  \n",
       "2010-01-06  116074400  \n",
       "2010-01-07  131091100  \n",
       "2010-01-08  126402800  "
      ]
     },
     "execution_count": 6,
     "metadata": {},
     "output_type": "execute_result"
    }
   ],
   "source": [
    "df.head()"
   ]
  },
  {
   "cell_type": "code",
   "execution_count": 7,
   "metadata": {},
   "outputs": [
    {
     "data": {
      "text/html": [
       "<div>\n",
       "<style scoped>\n",
       "    .dataframe tbody tr th:only-of-type {\n",
       "        vertical-align: middle;\n",
       "    }\n",
       "\n",
       "    .dataframe tbody tr th {\n",
       "        vertical-align: top;\n",
       "    }\n",
       "\n",
       "    .dataframe thead th {\n",
       "        text-align: right;\n",
       "    }\n",
       "</style>\n",
       "<table border=\"1\" class=\"dataframe\">\n",
       "  <thead>\n",
       "    <tr style=\"text-align: right;\">\n",
       "      <th></th>\n",
       "      <th>Open</th>\n",
       "      <th>High</th>\n",
       "      <th>Low</th>\n",
       "      <th>Close</th>\n",
       "      <th>Adj Close</th>\n",
       "      <th>Volume</th>\n",
       "      <th>Close_Predict</th>\n",
       "    </tr>\n",
       "    <tr>\n",
       "      <th>Date</th>\n",
       "      <th></th>\n",
       "      <th></th>\n",
       "      <th></th>\n",
       "      <th></th>\n",
       "      <th></th>\n",
       "      <th></th>\n",
       "      <th></th>\n",
       "    </tr>\n",
       "  </thead>\n",
       "  <tbody>\n",
       "    <tr>\n",
       "      <th>2010-01-04</th>\n",
       "      <td>112.370003</td>\n",
       "      <td>113.389999</td>\n",
       "      <td>111.510002</td>\n",
       "      <td>113.330002</td>\n",
       "      <td>92.246048</td>\n",
       "      <td>118944600</td>\n",
       "      <td>NaN</td>\n",
       "    </tr>\n",
       "    <tr>\n",
       "      <th>2010-01-05</th>\n",
       "      <td>113.260002</td>\n",
       "      <td>113.680000</td>\n",
       "      <td>112.849998</td>\n",
       "      <td>113.629997</td>\n",
       "      <td>92.490204</td>\n",
       "      <td>111579900</td>\n",
       "      <td>113.330002</td>\n",
       "    </tr>\n",
       "    <tr>\n",
       "      <th>2010-01-06</th>\n",
       "      <td>113.519997</td>\n",
       "      <td>113.989998</td>\n",
       "      <td>113.430000</td>\n",
       "      <td>113.709999</td>\n",
       "      <td>92.555328</td>\n",
       "      <td>116074400</td>\n",
       "      <td>113.629997</td>\n",
       "    </tr>\n",
       "    <tr>\n",
       "      <th>2010-01-07</th>\n",
       "      <td>113.500000</td>\n",
       "      <td>114.330002</td>\n",
       "      <td>113.180000</td>\n",
       "      <td>114.190002</td>\n",
       "      <td>92.946060</td>\n",
       "      <td>131091100</td>\n",
       "      <td>113.709999</td>\n",
       "    </tr>\n",
       "    <tr>\n",
       "      <th>2010-01-08</th>\n",
       "      <td>113.889999</td>\n",
       "      <td>114.620003</td>\n",
       "      <td>113.660004</td>\n",
       "      <td>114.570000</td>\n",
       "      <td>93.255348</td>\n",
       "      <td>126402800</td>\n",
       "      <td>114.190002</td>\n",
       "    </tr>\n",
       "  </tbody>\n",
       "</table>\n",
       "</div>"
      ],
      "text/plain": [
       "                  Open        High         Low       Close  Adj Close  \\\n",
       "Date                                                                    \n",
       "2010-01-04  112.370003  113.389999  111.510002  113.330002  92.246048   \n",
       "2010-01-05  113.260002  113.680000  112.849998  113.629997  92.490204   \n",
       "2010-01-06  113.519997  113.989998  113.430000  113.709999  92.555328   \n",
       "2010-01-07  113.500000  114.330002  113.180000  114.190002  92.946060   \n",
       "2010-01-08  113.889999  114.620003  113.660004  114.570000  93.255348   \n",
       "\n",
       "               Volume  Close_Predict  \n",
       "Date                                  \n",
       "2010-01-04  118944600            NaN  \n",
       "2010-01-05  111579900     113.330002  \n",
       "2010-01-06  116074400     113.629997  \n",
       "2010-01-07  131091100     113.709999  \n",
       "2010-01-08  126402800     114.190002  "
      ]
     },
     "execution_count": 7,
     "metadata": {},
     "output_type": "execute_result"
    }
   ],
   "source": [
    "# Predictions according to the naive forecast\n",
    "\n",
    "df['Close_Predict'] = df['Close'].shift(1)\n",
    "\n",
    "df.head()"
   ]
  },
  {
   "cell_type": "code",
   "execution_count": 12,
   "metadata": {},
   "outputs": [],
   "source": [
    "y_true, y_pred = df.Close[1:], df.Close_Predict[1:]"
   ]
  },
  {
   "cell_type": "markdown",
   "metadata": {},
   "source": [
    "### Metrics\n",
    "-----------\n",
    "\n",
    "Main idea: to get a feeling for how the different evaluation metrics relate to one another. What is \"good\"? What is \"bad\"? If the $R^2$ is \"good\" will the MAE also be \"good\"?"
   ]
  },
  {
   "cell_type": "code",
   "execution_count": 13,
   "metadata": {},
   "outputs": [
    {
     "data": {
      "text/plain": [
       "6330.3742894926045"
      ]
     },
     "execution_count": 13,
     "metadata": {},
     "output_type": "execute_result"
    }
   ],
   "source": [
    "# Sum squared error\n",
    "(y_true-y_pred).dot(y_true - y_pred)"
   ]
  },
  {
   "cell_type": "code",
   "execution_count": 14,
   "metadata": {},
   "outputs": [
    {
     "data": {
      "text/plain": [
       "2.798573956451196"
      ]
     },
     "execution_count": 14,
     "metadata": {},
     "output_type": "execute_result"
    }
   ],
   "source": [
    "# Mean squared error (MSE)\n",
    "mean_squared_error(y_true, y_pred)"
   ]
  },
  {
   "cell_type": "code",
   "execution_count": 16,
   "metadata": {},
   "outputs": [
    {
     "data": {
      "text/plain": [
       "2.7985739564511958"
      ]
     },
     "execution_count": 16,
     "metadata": {},
     "output_type": "execute_result"
    }
   ],
   "source": [
    "# MSE from scratch \n",
    "(y_true-y_pred).dot(y_true - y_pred)/len(y_true)"
   ]
  },
  {
   "cell_type": "code",
   "execution_count": 17,
   "metadata": {},
   "outputs": [
    {
     "data": {
      "text/plain": [
       "1.672893886787562"
      ]
     },
     "execution_count": 17,
     "metadata": {},
     "output_type": "execute_result"
    }
   ],
   "source": [
    "# RMSE\n",
    "mean_squared_error(y_true, y_pred, squared = False)"
   ]
  },
  {
   "cell_type": "code",
   "execution_count": 18,
   "metadata": {},
   "outputs": [
    {
     "data": {
      "text/plain": [
       "1.6728938867875618"
      ]
     },
     "execution_count": 18,
     "metadata": {},
     "output_type": "execute_result"
    }
   ],
   "source": [
    "# RMSE from scratch\n",
    "np.sqrt((y_true-y_pred).dot(y_true - y_pred)/len(y_true))"
   ]
  },
  {
   "cell_type": "code",
   "execution_count": 19,
   "metadata": {},
   "outputs": [
    {
     "data": {
      "text/plain": [
       "1.1457559803120336"
      ]
     },
     "execution_count": 19,
     "metadata": {},
     "output_type": "execute_result"
    }
   ],
   "source": [
    "# MAE\n",
    "mean_absolute_error(y_true,y_pred)"
   ]
  },
  {
   "cell_type": "code",
   "execution_count": 20,
   "metadata": {},
   "outputs": [
    {
     "data": {
      "text/plain": [
       "0.998960562204967"
      ]
     },
     "execution_count": 20,
     "metadata": {},
     "output_type": "execute_result"
    }
   ],
   "source": [
    "# R^2\n",
    "# Seems too good to be true eh?  \n",
    "\n",
    "r2_score(y_pred,y_true)"
   ]
  },
  {
   "cell_type": "code",
   "execution_count": 21,
   "metadata": {},
   "outputs": [
    {
     "data": {
      "text/plain": [
       "0.0064896321490491805"
      ]
     },
     "execution_count": 21,
     "metadata": {},
     "output_type": "execute_result"
    }
   ],
   "source": [
    "# MAPE \n",
    "\n",
    "mean_absolute_percentage_error(y_pred,y_true)"
   ]
  },
  {
   "cell_type": "markdown",
   "metadata": {},
   "source": [
    "#### sMape from scratch: \n",
    "\n",
    "$$\\textrm{sMAPE} = \\frac{1}{N} \\sum_{i=1}^{N} \\frac{|y_i - \\hat{y}_i|}{\\left(|y_i| + |\\hat{y}_i|\\right)/2} $$"
   ]
  },
  {
   "cell_type": "code",
   "execution_count": 24,
   "metadata": {},
   "outputs": [],
   "source": [
    "def smape(y_t, y_p):\n",
    "    num = np.abs(y_t-y_p)\n",
    "    denom = 0.5 * (np.abs(y_t) + np.abs(y_p))\n",
    "\n",
    "    ratio = num/denom\n",
    "\n",
    "    return ratio.mean()"
   ]
  },
  {
   "cell_type": "code",
   "execution_count": 23,
   "metadata": {},
   "outputs": [
    {
     "data": {
      "text/plain": [
       "0.006491365814068417"
      ]
     },
     "execution_count": 23,
     "metadata": {},
     "output_type": "execute_result"
    }
   ],
   "source": [
    "smape(y_true,y_pred)"
   ]
  }
 ],
 "metadata": {
  "kernelspec": {
   "display_name": "base",
   "language": "python",
   "name": "python3"
  },
  "language_info": {
   "codemirror_mode": {
    "name": "ipython",
    "version": 3
   },
   "file_extension": ".py",
   "mimetype": "text/x-python",
   "name": "python",
   "nbconvert_exporter": "python",
   "pygments_lexer": "ipython3",
   "version": "3.10.13"
  }
 },
 "nbformat": 4,
 "nbformat_minor": 2
}
